{
 "cells": [
  {
   "cell_type": "markdown",
   "metadata": {
    "papermill": {
     "duration": 0.007127,
     "end_time": "2020-09-02T10:09:36.168645",
     "exception": false,
     "start_time": "2020-09-02T10:09:36.161518",
     "status": "completed"
    },
    "tags": []
   },
   "source": [
    "### What I learnt:\n",
    "1) Working with data using LSTM nodes<br>\n",
    "2) Scaling data values with MinMaxScaler() from sklearn.preprocessing <br>\n",
    "3) Reshaping data back to its normal value after normalization"
   ]
  },
  {
   "cell_type": "markdown",
   "metadata": {
    "papermill": {
     "duration": 0.005526,
     "end_time": "2020-09-02T10:09:36.182881",
     "exception": false,
     "start_time": "2020-09-02T10:09:36.177355",
     "status": "completed"
    },
    "tags": []
   },
   "source": [
    "https://www.kdnuggets.com/2018/11/keras-long-short-term-memory-lstm-model-predict-stock-prices.html#:~:text=(%2018%3An45%20)-,Using%20a%20Keras%20Long%20Short%2DTerm%20Memory%20(LSTM),Model%20to%20Predict%20Stock%20Prices&text=LSTMs%20are%20very%20powerful%20in,in%20predicting%20its%20future%20price"
   ]
  },
  {
   "cell_type": "markdown",
   "metadata": {
    "papermill": {
     "duration": 0.005275,
     "end_time": "2020-09-02T10:09:36.193812",
     "exception": false,
     "start_time": "2020-09-02T10:09:36.188537",
     "status": "completed"
    },
    "tags": []
   },
   "source": [
    "Read this article in detail. Understand how it functions. Revise how Pandas Dataframes and Python arrays are manipulated"
   ]
  },
  {
   "cell_type": "code",
   "execution_count": 1,
   "metadata": {
    "_cell_guid": "79c7e3d0-c299-4dcb-8224-4455121ee9b0",
    "_uuid": "d629ff2d2480ee46fbb7e2d37f6b5fab8052498a",
    "execution": {
     "iopub.execute_input": "2020-09-02T10:09:36.212398Z",
     "iopub.status.busy": "2020-09-02T10:09:36.211458Z",
     "iopub.status.idle": "2020-09-02T10:09:44.890765Z",
     "shell.execute_reply": "2020-09-02T10:09:44.889929Z"
    },
    "papermill": {
     "duration": 8.691206,
     "end_time": "2020-09-02T10:09:44.890936",
     "exception": false,
     "start_time": "2020-09-02T10:09:36.199730",
     "status": "completed"
    },
    "tags": []
   },
   "outputs": [],
   "source": [
    "import numpy as np\n",
    "import pandas as pd\n",
    "import tensorflow as tf\n",
    "import matplotlib.pyplot as plt\n",
    "import sklearn\n",
    "from sklearn.preprocessing import MinMaxScaler\n",
    "import matplotlib.pyplot as plt"
   ]
  },
  {
   "cell_type": "code",
   "execution_count": 2,
   "metadata": {
    "execution": {
     "iopub.execute_input": "2020-09-02T10:09:44.913190Z",
     "iopub.status.busy": "2020-09-02T10:09:44.912171Z",
     "iopub.status.idle": "2020-09-02T10:09:44.931718Z",
     "shell.execute_reply": "2020-09-02T10:09:44.930665Z"
    },
    "papermill": {
     "duration": 0.034694,
     "end_time": "2020-09-02T10:09:44.931946",
     "exception": false,
     "start_time": "2020-09-02T10:09:44.897252",
     "status": "completed"
    },
    "tags": []
   },
   "outputs": [],
   "source": [
    "data = pd.read_csv('../input/new-tata-dataset/NSE-TATAGLOBAL.csv')"
   ]
  },
  {
   "cell_type": "code",
   "execution_count": 3,
   "metadata": {
    "execution": {
     "iopub.execute_input": "2020-09-02T10:09:44.961830Z",
     "iopub.status.busy": "2020-09-02T10:09:44.960703Z",
     "iopub.status.idle": "2020-09-02T10:09:44.965240Z",
     "shell.execute_reply": "2020-09-02T10:09:44.964060Z"
    },
    "papermill": {
     "duration": 0.024241,
     "end_time": "2020-09-02T10:09:44.965461",
     "exception": false,
     "start_time": "2020-09-02T10:09:44.941220",
     "status": "completed"
    },
    "tags": []
   },
   "outputs": [],
   "source": [
    "training_set = data.iloc[:, 1: 2].values"
   ]
  },
  {
   "cell_type": "code",
   "execution_count": 4,
   "metadata": {
    "execution": {
     "iopub.execute_input": "2020-09-02T10:09:44.988673Z",
     "iopub.status.busy": "2020-09-02T10:09:44.987562Z",
     "iopub.status.idle": "2020-09-02T10:09:44.992568Z",
     "shell.execute_reply": "2020-09-02T10:09:44.993480Z"
    },
    "papermill": {
     "duration": 0.019334,
     "end_time": "2020-09-02T10:09:44.993708",
     "exception": false,
     "start_time": "2020-09-02T10:09:44.974374",
     "status": "completed"
    },
    "tags": []
   },
   "outputs": [
    {
     "name": "stdout",
     "output_type": "stream",
     "text": [
      "[[234.05]\n",
      " [234.55]\n",
      " [240.  ]\n",
      " ...\n",
      " [121.8 ]\n",
      " [120.3 ]\n",
      " [122.1 ]]\n"
     ]
    }
   ],
   "source": [
    "print(training_set)"
   ]
  },
  {
   "cell_type": "code",
   "execution_count": 5,
   "metadata": {
    "execution": {
     "iopub.execute_input": "2020-09-02T10:09:45.037217Z",
     "iopub.status.busy": "2020-09-02T10:09:45.035981Z",
     "iopub.status.idle": "2020-09-02T10:09:45.050066Z",
     "shell.execute_reply": "2020-09-02T10:09:45.049424Z"
    },
    "papermill": {
     "duration": 0.044782,
     "end_time": "2020-09-02T10:09:45.050207",
     "exception": false,
     "start_time": "2020-09-02T10:09:45.005425",
     "status": "completed"
    },
    "tags": []
   },
   "outputs": [
    {
     "data": {
      "text/html": [
       "<div>\n",
       "<style scoped>\n",
       "    .dataframe tbody tr th:only-of-type {\n",
       "        vertical-align: middle;\n",
       "    }\n",
       "\n",
       "    .dataframe tbody tr th {\n",
       "        vertical-align: top;\n",
       "    }\n",
       "\n",
       "    .dataframe thead th {\n",
       "        text-align: right;\n",
       "    }\n",
       "</style>\n",
       "<table border=\"1\" class=\"dataframe\">\n",
       "  <thead>\n",
       "    <tr style=\"text-align: right;\">\n",
       "      <th></th>\n",
       "      <th>Date</th>\n",
       "      <th>Open</th>\n",
       "      <th>High</th>\n",
       "      <th>Low</th>\n",
       "      <th>Last</th>\n",
       "      <th>Close</th>\n",
       "      <th>Total Trade Quantity</th>\n",
       "      <th>Turnover (Lacs)</th>\n",
       "    </tr>\n",
       "  </thead>\n",
       "  <tbody>\n",
       "    <tr>\n",
       "      <th>0</th>\n",
       "      <td>2018-09-28</td>\n",
       "      <td>234.05</td>\n",
       "      <td>235.95</td>\n",
       "      <td>230.20</td>\n",
       "      <td>233.50</td>\n",
       "      <td>233.75</td>\n",
       "      <td>3069914</td>\n",
       "      <td>7162.35</td>\n",
       "    </tr>\n",
       "    <tr>\n",
       "      <th>1</th>\n",
       "      <td>2018-09-27</td>\n",
       "      <td>234.55</td>\n",
       "      <td>236.80</td>\n",
       "      <td>231.10</td>\n",
       "      <td>233.80</td>\n",
       "      <td>233.25</td>\n",
       "      <td>5082859</td>\n",
       "      <td>11859.95</td>\n",
       "    </tr>\n",
       "    <tr>\n",
       "      <th>2</th>\n",
       "      <td>2018-09-26</td>\n",
       "      <td>240.00</td>\n",
       "      <td>240.00</td>\n",
       "      <td>232.50</td>\n",
       "      <td>235.00</td>\n",
       "      <td>234.25</td>\n",
       "      <td>2240909</td>\n",
       "      <td>5248.60</td>\n",
       "    </tr>\n",
       "    <tr>\n",
       "      <th>3</th>\n",
       "      <td>2018-09-25</td>\n",
       "      <td>233.30</td>\n",
       "      <td>236.75</td>\n",
       "      <td>232.00</td>\n",
       "      <td>236.25</td>\n",
       "      <td>236.10</td>\n",
       "      <td>2349368</td>\n",
       "      <td>5503.90</td>\n",
       "    </tr>\n",
       "    <tr>\n",
       "      <th>4</th>\n",
       "      <td>2018-09-24</td>\n",
       "      <td>233.55</td>\n",
       "      <td>239.20</td>\n",
       "      <td>230.75</td>\n",
       "      <td>234.00</td>\n",
       "      <td>233.30</td>\n",
       "      <td>3423509</td>\n",
       "      <td>7999.55</td>\n",
       "    </tr>\n",
       "  </tbody>\n",
       "</table>\n",
       "</div>"
      ],
      "text/plain": [
       "         Date    Open    High     Low    Last   Close  Total Trade Quantity  \\\n",
       "0  2018-09-28  234.05  235.95  230.20  233.50  233.75               3069914   \n",
       "1  2018-09-27  234.55  236.80  231.10  233.80  233.25               5082859   \n",
       "2  2018-09-26  240.00  240.00  232.50  235.00  234.25               2240909   \n",
       "3  2018-09-25  233.30  236.75  232.00  236.25  236.10               2349368   \n",
       "4  2018-09-24  233.55  239.20  230.75  234.00  233.30               3423509   \n",
       "\n",
       "   Turnover (Lacs)  \n",
       "0          7162.35  \n",
       "1         11859.95  \n",
       "2          5248.60  \n",
       "3          5503.90  \n",
       "4          7999.55  "
      ]
     },
     "execution_count": 5,
     "metadata": {},
     "output_type": "execute_result"
    }
   ],
   "source": [
    "data.head(5)"
   ]
  },
  {
   "cell_type": "code",
   "execution_count": 6,
   "metadata": {
    "execution": {
     "iopub.execute_input": "2020-09-02T10:09:45.072743Z",
     "iopub.status.busy": "2020-09-02T10:09:45.071605Z",
     "iopub.status.idle": "2020-09-02T10:09:45.077300Z",
     "shell.execute_reply": "2020-09-02T10:09:45.076267Z"
    },
    "papermill": {
     "duration": 0.02038,
     "end_time": "2020-09-02T10:09:45.077489",
     "exception": false,
     "start_time": "2020-09-02T10:09:45.057109",
     "status": "completed"
    },
    "tags": []
   },
   "outputs": [
    {
     "data": {
      "text/plain": [
       "array([[234.05],\n",
       "       [234.55],\n",
       "       [240.  ],\n",
       "       ...,\n",
       "       [121.8 ],\n",
       "       [120.3 ],\n",
       "       [122.1 ]])"
      ]
     },
     "execution_count": 6,
     "metadata": {},
     "output_type": "execute_result"
    }
   ],
   "source": [
    "training_set"
   ]
  },
  {
   "cell_type": "code",
   "execution_count": 7,
   "metadata": {
    "execution": {
     "iopub.execute_input": "2020-09-02T10:09:45.099782Z",
     "iopub.status.busy": "2020-09-02T10:09:45.098769Z",
     "iopub.status.idle": "2020-09-02T10:09:45.103339Z",
     "shell.execute_reply": "2020-09-02T10:09:45.102515Z"
    },
    "papermill": {
     "duration": 0.017072,
     "end_time": "2020-09-02T10:09:45.103481",
     "exception": false,
     "start_time": "2020-09-02T10:09:45.086409",
     "status": "completed"
    },
    "tags": []
   },
   "outputs": [],
   "source": [
    "sc = MinMaxScaler(feature_range = (0, 1))\n",
    "training_set_scaled = sc.fit_transform(training_set)"
   ]
  },
  {
   "cell_type": "code",
   "execution_count": 8,
   "metadata": {
    "execution": {
     "iopub.execute_input": "2020-09-02T10:09:45.133606Z",
     "iopub.status.busy": "2020-09-02T10:09:45.132447Z",
     "iopub.status.idle": "2020-09-02T10:09:45.139760Z",
     "shell.execute_reply": "2020-09-02T10:09:45.139014Z"
    },
    "papermill": {
     "duration": 0.029482,
     "end_time": "2020-09-02T10:09:45.139910",
     "exception": false,
     "start_time": "2020-09-02T10:09:45.110428",
     "status": "completed"
    },
    "tags": []
   },
   "outputs": [],
   "source": [
    "x_train = []\n",
    "y_train = []\n",
    "for i in range(60, 2035):\n",
    "    x_train.append(training_set_scaled[i - 60: i, 0])\n",
    "    y_train.append(training_set_scaled[i, 0])\n",
    "x_train, y_train = np.array(x_train), np.array(y_train)\n",
    "\n",
    "x_train = np.reshape(x_train, (x_train.shape[0], x_train.shape[1], 1))"
   ]
  },
  {
   "cell_type": "code",
   "execution_count": 9,
   "metadata": {
    "execution": {
     "iopub.execute_input": "2020-09-02T10:09:45.162554Z",
     "iopub.status.busy": "2020-09-02T10:09:45.161420Z",
     "iopub.status.idle": "2020-09-02T10:09:45.258490Z",
     "shell.execute_reply": "2020-09-02T10:09:45.257717Z"
    },
    "papermill": {
     "duration": 0.111738,
     "end_time": "2020-09-02T10:09:45.258638",
     "exception": false,
     "start_time": "2020-09-02T10:09:45.146900",
     "status": "completed"
    },
    "tags": []
   },
   "outputs": [],
   "source": [
    "from keras.models import Sequential\n",
    "from keras.layers import Dense\n",
    "from keras.layers import LSTM\n",
    "from keras.layers import Dropout"
   ]
  },
  {
   "cell_type": "code",
   "execution_count": 10,
   "metadata": {
    "execution": {
     "iopub.execute_input": "2020-09-02T10:09:45.290089Z",
     "iopub.status.busy": "2020-09-02T10:09:45.288789Z",
     "iopub.status.idle": "2020-09-02T10:21:36.224561Z",
     "shell.execute_reply": "2020-09-02T10:21:36.223937Z"
    },
    "papermill": {
     "duration": 710.958455,
     "end_time": "2020-09-02T10:21:36.224701",
     "exception": false,
     "start_time": "2020-09-02T10:09:45.266246",
     "status": "completed"
    },
    "tags": []
   },
   "outputs": [
    {
     "name": "stdout",
     "output_type": "stream",
     "text": [
      "Epoch 1/100\n",
      "62/62 [==============================] - 7s 112ms/step - loss: 0.0089\n",
      "Epoch 2/100\n",
      "62/62 [==============================] - 7s 111ms/step - loss: 0.0036\n",
      "Epoch 3/100\n",
      "62/62 [==============================] - 7s 109ms/step - loss: 0.0031\n",
      "Epoch 4/100\n",
      "62/62 [==============================] - 7s 109ms/step - loss: 0.0031\n",
      "Epoch 5/100\n",
      "62/62 [==============================] - 7s 113ms/step - loss: 0.0025\n",
      "Epoch 6/100\n",
      "62/62 [==============================] - 7s 117ms/step - loss: 0.0025\n",
      "Epoch 7/100\n",
      "62/62 [==============================] - 7s 111ms/step - loss: 0.0022\n",
      "Epoch 8/100\n",
      "62/62 [==============================] - 7s 117ms/step - loss: 0.0021\n",
      "Epoch 9/100\n",
      "62/62 [==============================] - 7s 114ms/step - loss: 0.0018\n",
      "Epoch 10/100\n",
      "62/62 [==============================] - 7s 110ms/step - loss: 0.0021\n",
      "Epoch 11/100\n",
      "62/62 [==============================] - 7s 109ms/step - loss: 0.0017\n",
      "Epoch 12/100\n",
      "62/62 [==============================] - 7s 110ms/step - loss: 0.0018\n",
      "Epoch 13/100\n",
      "62/62 [==============================] - 7s 111ms/step - loss: 0.0015\n",
      "Epoch 14/100\n",
      "62/62 [==============================] - 7s 114ms/step - loss: 0.0017\n",
      "Epoch 15/100\n",
      "62/62 [==============================] - 8s 128ms/step - loss: 0.0016\n",
      "Epoch 16/100\n",
      "62/62 [==============================] - 7s 117ms/step - loss: 0.0016\n",
      "Epoch 17/100\n",
      "62/62 [==============================] - 7s 112ms/step - loss: 0.0014\n",
      "Epoch 18/100\n",
      "62/62 [==============================] - 7s 110ms/step - loss: 0.0015\n",
      "Epoch 19/100\n",
      "62/62 [==============================] - 7s 108ms/step - loss: 0.0014\n",
      "Epoch 20/100\n",
      "62/62 [==============================] - 7s 108ms/step - loss: 0.0015\n",
      "Epoch 21/100\n",
      "62/62 [==============================] - 7s 108ms/step - loss: 0.0014\n",
      "Epoch 22/100\n",
      "62/62 [==============================] - 7s 109ms/step - loss: 0.0014\n",
      "Epoch 23/100\n",
      "62/62 [==============================] - 7s 113ms/step - loss: 0.0013\n",
      "Epoch 24/100\n",
      "62/62 [==============================] - 7s 110ms/step - loss: 0.0011\n",
      "Epoch 25/100\n",
      "62/62 [==============================] - 7s 116ms/step - loss: 0.0013\n",
      "Epoch 26/100\n",
      "62/62 [==============================] - 7s 110ms/step - loss: 0.0014\n",
      "Epoch 27/100\n",
      "62/62 [==============================] - 7s 111ms/step - loss: 0.0012\n",
      "Epoch 28/100\n",
      "62/62 [==============================] - 7s 109ms/step - loss: 0.0012\n",
      "Epoch 29/100\n",
      "62/62 [==============================] - 7s 109ms/step - loss: 0.0012\n",
      "Epoch 30/100\n",
      "62/62 [==============================] - 7s 108ms/step - loss: 0.0012\n",
      "Epoch 31/100\n",
      "62/62 [==============================] - 7s 110ms/step - loss: 0.0010\n",
      "Epoch 32/100\n",
      "62/62 [==============================] - 7s 109ms/step - loss: 0.0011\n",
      "Epoch 33/100\n",
      "62/62 [==============================] - 7s 116ms/step - loss: 0.0012\n",
      "Epoch 34/100\n",
      "62/62 [==============================] - 7s 115ms/step - loss: 9.8482e-04\n",
      "Epoch 35/100\n",
      "62/62 [==============================] - 7s 109ms/step - loss: 9.8393e-04\n",
      "Epoch 36/100\n",
      "62/62 [==============================] - 7s 110ms/step - loss: 0.0011\n",
      "Epoch 37/100\n",
      "62/62 [==============================] - 7s 108ms/step - loss: 9.6977e-04\n",
      "Epoch 38/100\n",
      "62/62 [==============================] - 7s 109ms/step - loss: 0.0010\n",
      "Epoch 39/100\n",
      "62/62 [==============================] - 7s 110ms/step - loss: 9.5199e-04\n",
      "Epoch 40/100\n",
      "62/62 [==============================] - 7s 110ms/step - loss: 8.9802e-04\n",
      "Epoch 41/100\n",
      "62/62 [==============================] - 7s 113ms/step - loss: 8.6511e-04\n",
      "Epoch 42/100\n",
      "62/62 [==============================] - 7s 115ms/step - loss: 9.8392e-04\n",
      "Epoch 43/100\n",
      "62/62 [==============================] - 7s 111ms/step - loss: 8.6687e-04\n",
      "Epoch 44/100\n",
      "62/62 [==============================] - 7s 114ms/step - loss: 8.9974e-04\n",
      "Epoch 45/100\n",
      "62/62 [==============================] - 7s 112ms/step - loss: 8.6449e-04\n",
      "Epoch 46/100\n",
      "62/62 [==============================] - 7s 109ms/step - loss: 8.4749e-04\n",
      "Epoch 47/100\n",
      "62/62 [==============================] - 7s 111ms/step - loss: 8.0485e-04\n",
      "Epoch 48/100\n",
      "62/62 [==============================] - 7s 109ms/step - loss: 8.6312e-04\n",
      "Epoch 49/100\n",
      "62/62 [==============================] - 7s 109ms/step - loss: 7.3848e-04\n",
      "Epoch 50/100\n",
      "62/62 [==============================] - 7s 114ms/step - loss: 7.2115e-04\n",
      "Epoch 51/100\n",
      "62/62 [==============================] - 7s 112ms/step - loss: 7.5354e-04\n",
      "Epoch 52/100\n",
      "62/62 [==============================] - 7s 111ms/step - loss: 6.9323e-04\n",
      "Epoch 53/100\n",
      "62/62 [==============================] - 7s 110ms/step - loss: 8.1561e-04\n",
      "Epoch 54/100\n",
      "62/62 [==============================] - 7s 114ms/step - loss: 8.2389e-04\n",
      "Epoch 55/100\n",
      "62/62 [==============================] - 7s 111ms/step - loss: 6.9793e-04\n",
      "Epoch 56/100\n",
      "62/62 [==============================] - 7s 110ms/step - loss: 7.8087e-04\n",
      "Epoch 57/100\n",
      "62/62 [==============================] - 7s 108ms/step - loss: 7.4409e-04\n",
      "Epoch 58/100\n",
      "62/62 [==============================] - 7s 110ms/step - loss: 7.3682e-04\n",
      "Epoch 59/100\n",
      "62/62 [==============================] - 8s 127ms/step - loss: 8.2677e-04\n",
      "Epoch 60/100\n",
      "62/62 [==============================] - 8s 127ms/step - loss: 7.4766e-04\n",
      "Epoch 61/100\n",
      "62/62 [==============================] - 7s 111ms/step - loss: 7.8317e-04\n",
      "Epoch 62/100\n",
      "62/62 [==============================] - 7s 118ms/step - loss: 6.9157e-04\n",
      "Epoch 63/100\n",
      "62/62 [==============================] - 8s 126ms/step - loss: 7.5746e-04\n",
      "Epoch 64/100\n",
      "62/62 [==============================] - 7s 113ms/step - loss: 8.5731e-04\n",
      "Epoch 65/100\n",
      "62/62 [==============================] - 7s 110ms/step - loss: 7.3355e-04\n",
      "Epoch 66/100\n",
      "62/62 [==============================] - 7s 109ms/step - loss: 7.8979e-04\n",
      "Epoch 67/100\n",
      "62/62 [==============================] - 7s 113ms/step - loss: 6.8353e-04\n",
      "Epoch 68/100\n",
      "62/62 [==============================] - 7s 112ms/step - loss: 7.5434e-04\n",
      "Epoch 69/100\n",
      "62/62 [==============================] - 7s 109ms/step - loss: 6.9057e-04\n",
      "Epoch 70/100\n",
      "62/62 [==============================] - 7s 109ms/step - loss: 6.7589e-04\n",
      "Epoch 71/100\n",
      "62/62 [==============================] - 7s 109ms/step - loss: 6.9714e-04\n",
      "Epoch 72/100\n",
      "62/62 [==============================] - 7s 114ms/step - loss: 6.4615e-04\n",
      "Epoch 73/100\n",
      "62/62 [==============================] - 7s 112ms/step - loss: 7.1502e-04\n",
      "Epoch 74/100\n",
      "62/62 [==============================] - 7s 110ms/step - loss: 7.6969e-04\n",
      "Epoch 75/100\n",
      "62/62 [==============================] - 7s 110ms/step - loss: 7.1910e-04\n",
      "Epoch 76/100\n",
      "62/62 [==============================] - 7s 117ms/step - loss: 6.7824e-04\n",
      "Epoch 77/100\n",
      "62/62 [==============================] - 7s 114ms/step - loss: 7.2052e-04\n",
      "Epoch 78/100\n",
      "62/62 [==============================] - 7s 110ms/step - loss: 6.9715e-04\n",
      "Epoch 79/100\n",
      "62/62 [==============================] - 7s 107ms/step - loss: 7.8404e-04\n",
      "Epoch 80/100\n",
      "62/62 [==============================] - 7s 108ms/step - loss: 6.2616e-04\n",
      "Epoch 81/100\n",
      "62/62 [==============================] - 7s 111ms/step - loss: 7.0782e-04\n",
      "Epoch 82/100\n",
      "62/62 [==============================] - 7s 107ms/step - loss: 6.1434e-04\n",
      "Epoch 83/100\n",
      "62/62 [==============================] - 7s 108ms/step - loss: 6.9884e-04\n",
      "Epoch 84/100\n",
      "62/62 [==============================] - 7s 110ms/step - loss: 6.0527e-04\n",
      "Epoch 85/100\n",
      "62/62 [==============================] - 7s 113ms/step - loss: 6.1458e-04\n",
      "Epoch 86/100\n",
      "62/62 [==============================] - 7s 109ms/step - loss: 6.8495e-04\n",
      "Epoch 87/100\n",
      "62/62 [==============================] - 7s 108ms/step - loss: 6.9819e-04\n",
      "Epoch 88/100\n",
      "62/62 [==============================] - 7s 109ms/step - loss: 6.4627e-04\n",
      "Epoch 89/100\n",
      "62/62 [==============================] - 7s 109ms/step - loss: 6.5262e-04\n",
      "Epoch 90/100\n",
      "62/62 [==============================] - 7s 110ms/step - loss: 7.3931e-04\n",
      "Epoch 91/100\n",
      "62/62 [==============================] - 7s 110ms/step - loss: 6.0572e-04\n",
      "Epoch 92/100\n",
      "62/62 [==============================] - 7s 109ms/step - loss: 5.9349e-04\n",
      "Epoch 93/100\n",
      "62/62 [==============================] - 7s 110ms/step - loss: 6.1791e-04\n",
      "Epoch 94/100\n",
      "62/62 [==============================] - 7s 114ms/step - loss: 6.2086e-04\n",
      "Epoch 95/100\n",
      "62/62 [==============================] - 7s 107ms/step - loss: 6.3448e-04\n",
      "Epoch 96/100\n",
      "62/62 [==============================] - 7s 109ms/step - loss: 6.4486e-04\n",
      "Epoch 97/100\n",
      "62/62 [==============================] - 7s 110ms/step - loss: 7.5347e-04\n",
      "Epoch 98/100\n",
      "62/62 [==============================] - 7s 108ms/step - loss: 6.2216e-04\n",
      "Epoch 99/100\n",
      "62/62 [==============================] - 7s 111ms/step - loss: 6.8806e-04\n",
      "Epoch 100/100\n",
      "62/62 [==============================] - 7s 109ms/step - loss: 6.6743e-04\n"
     ]
    },
    {
     "data": {
      "text/plain": [
       "<tensorflow.python.keras.callbacks.History at 0x7f097820f950>"
      ]
     },
     "execution_count": 10,
     "metadata": {},
     "output_type": "execute_result"
    }
   ],
   "source": [
    "regressor = Sequential()\n",
    "regressor.add(LSTM(units = 50, return_sequences = True, input_shape = (x_train.shape[1], 1)))\n",
    "regressor.add(Dropout(0.2))\n",
    "\n",
    "regressor.add(LSTM(units = 50, return_sequences = True))\n",
    "regressor.add(Dropout(0.2))\n",
    "\n",
    "regressor.add(LSTM(units = 50, return_sequences = True))\n",
    "regressor.add(Dropout(0.2))\n",
    "\n",
    "regressor.add(LSTM(units = 50))\n",
    "regressor.add(Dropout(0.2))\n",
    "\n",
    "regressor.add(Dense(units = 1))\n",
    "\n",
    "regressor.compile(optimizer = 'adam', loss = 'mean_squared_error')\n",
    "\n",
    "regressor.fit(x_train, y_train, epochs = 100, batch_size = 32)"
   ]
  },
  {
   "cell_type": "code",
   "execution_count": 11,
   "metadata": {
    "execution": {
     "iopub.execute_input": "2020-09-02T10:21:37.120498Z",
     "iopub.status.busy": "2020-09-02T10:21:37.119679Z",
     "iopub.status.idle": "2020-09-02T10:21:37.128706Z",
     "shell.execute_reply": "2020-09-02T10:21:37.127921Z"
    },
    "papermill": {
     "duration": 0.437422,
     "end_time": "2020-09-02T10:21:37.128831",
     "exception": false,
     "start_time": "2020-09-02T10:21:36.691409",
     "status": "completed"
    },
    "tags": []
   },
   "outputs": [],
   "source": [
    "data_test = pd.read_csv('../input/sample-stock-test/Sample_Stock_test.csv')\n",
    "real_stock_price = data_test.iloc[:, 1:2].values"
   ]
  },
  {
   "cell_type": "code",
   "execution_count": 12,
   "metadata": {
    "execution": {
     "iopub.execute_input": "2020-09-02T10:21:37.977058Z",
     "iopub.status.busy": "2020-09-02T10:21:37.976237Z",
     "iopub.status.idle": "2020-09-02T10:21:37.980213Z",
     "shell.execute_reply": "2020-09-02T10:21:37.979435Z"
    },
    "papermill": {
     "duration": 0.432214,
     "end_time": "2020-09-02T10:21:37.980347",
     "exception": false,
     "start_time": "2020-09-02T10:21:37.548133",
     "status": "completed"
    },
    "tags": []
   },
   "outputs": [],
   "source": [
    "data_total = pd.concat((data['Open'], data_test['Open']), axis = 0)\n",
    "inputs = data_total[len(data_total) - len(data_test) - 60:].values\n",
    "inputs = inputs.reshape(-1, 1)\n",
    "inputs = sc.transform(inputs)"
   ]
  },
  {
   "cell_type": "code",
   "execution_count": 13,
   "metadata": {
    "execution": {
     "iopub.execute_input": "2020-09-02T10:21:38.869452Z",
     "iopub.status.busy": "2020-09-02T10:21:38.868373Z",
     "iopub.status.idle": "2020-09-02T10:21:40.361607Z",
     "shell.execute_reply": "2020-09-02T10:21:40.360964Z"
    },
    "papermill": {
     "duration": 1.919052,
     "end_time": "2020-09-02T10:21:40.361733",
     "exception": false,
     "start_time": "2020-09-02T10:21:38.442681",
     "status": "completed"
    },
    "tags": []
   },
   "outputs": [],
   "source": [
    "x_test = []\n",
    "for i in range(60, 76):\n",
    "    x_test.append(inputs[i - 60:i, 0])\n",
    "x_test = np.array(x_test)\n",
    "x_test = np.reshape(x_test, (x_test.shape[0], x_test.shape[1], 1))\n",
    "predicted_stock_price = regressor.predict(x_test)\n",
    "predicted_stock_price = sc.inverse_transform(predicted_stock_price)"
   ]
  },
  {
   "cell_type": "code",
   "execution_count": 14,
   "metadata": {
    "execution": {
     "iopub.execute_input": "2020-09-02T10:21:41.265499Z",
     "iopub.status.busy": "2020-09-02T10:21:41.264723Z",
     "iopub.status.idle": "2020-09-02T10:21:41.553036Z",
     "shell.execute_reply": "2020-09-02T10:21:41.552244Z"
    },
    "papermill": {
     "duration": 0.76835,
     "end_time": "2020-09-02T10:21:41.553165",
     "exception": false,
     "start_time": "2020-09-02T10:21:40.784815",
     "status": "completed"
    },
    "tags": []
   },
   "outputs": [
    {
     "data": {
      "image/png": "[encoded data removed]",
      "text/plain": [
       "<Figure size 432x288 with 1 Axes>"
      ]
     },
     "metadata": {
      "needs_background": "light"
     },
     "output_type": "display_data"
    }
   ],
   "source": [
    "plt.plot(real_stock_price, color = 'black', label = 'Tata Stock Price')\n",
    "plt.plot(predicted_stock_price, color = 'green', label = 'Predicted Tata Stock Price')\n",
    "plt.title('Tata Stock Price Prediction')\n",
    "plt.xlabel('Time')\n",
    "plt.ylabel = ('Tata Stock Price')\n",
    "plt.legend()\n",
    "plt.show()"
   ]
  }
 ],
 "metadata": {
  "kernelspec": {
   "display_name": "Python 3",
   "language": "python",
   "name": "python3"
  },
  "language_info": {
   "codemirror_mode": {
    "name": "ipython",
    "version": 3
   },
   "file_extension": ".py",
   "mimetype": "text/x-python",
   "name": "python",
   "nbconvert_exporter": "python",
   "pygments_lexer": "ipython3",
   "version": "3.8.5"
  },
  "papermill": {
   "duration": 732.484313,
   "end_time": "2020-09-02T10:21:43.091870",
   "environment_variables": {},
   "exception": null,
   "input_path": "__notebook__.ipynb",
   "output_path": "__notebook__.ipynb",
   "parameters": {},
   "start_time": "2020-09-02T10:09:30.607557",
   "version": "2.1.0"
  }
 },
 "nbformat": 4,
 "nbformat_minor": 4
}
